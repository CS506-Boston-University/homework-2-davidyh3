{
 "cells": [
  {
   "attachments": {},
   "cell_type": "markdown",
   "metadata": {},
   "source": [
    "# Homework 2 (100 Points)\n",
    "\n",
    "The goal of this homework is to get more practice with clustering and SVD on various datasets.\n",
    "\n",
    "## Exercise 1 - (50 points)\n",
    "\n",
    "This exercise will be using the [AirBnB dataset](http://insideairbnb.com/get-the-data.html) for New York City called `listings.csv`. You should find this data in your downloaded repository. If not, it is a resource under Piazza.\n",
    "\n",
    "a) Produce a [Marker Cluster](https://deparkes.co.uk/2016/06/24/folium-marker-clusters/) using the Folium and Selenium package (you can install them using pip) of the mean listing price per location (lattitude and longitude) over the New York City map. (5 points)\n",
    "\n",
    "To start, generate a base map of New York City to plot over: (**`location=[40.693943, -73.985880], zoom_start = 11`**). Then, generate and save a `PNG` file named `problem1a.png`. Display it in the cell below as well using the `IPython.display` package."
   ]
  },
  {
   "cell_type": "code",
   "execution_count": 2,
   "metadata": {},
   "outputs": [],
   "source": [
    "# Do not edit this cell\n",
    "import pandas as pd\n",
    "import numpy as np\n",
    "import folium #install if you haven't already\n",
    "import selenium #install if you haven't already\n",
    "from IPython.display import Image #install if you haven't already\n",
    "\n",
    "def convert_map_to_png(map, filename):\n",
    "    \"\"\"\n",
    "    Method to convert a folium map to a png file by\n",
    "    saving the map as an html file and then taking a\n",
    "    screenshot of the html file on the browser.\n",
    "\n",
    "    map : folium map object\n",
    "        The map to be converted to a png file\n",
    "    filename : str, does not include file type\n",
    "    \"\"\"\n",
    "    import os\n",
    "    import time\n",
    "    from selenium import webdriver\n",
    "\n",
    "    html_filename=f'{filename}.html'\n",
    "    map.save(html_filename)\n",
    "\n",
    "    tmpurl=f'file://{os.getcwd()}/{html_filename}'\n",
    "    \n",
    "    try:\n",
    "        try:\n",
    "            browser = webdriver.Firefox()\n",
    "        except:\n",
    "            browser = webdriver.Chrome()\n",
    "    except:\n",
    "        browser = webdriver.Safari()\n",
    "\n",
    "    browser.get(tmpurl)\n",
    "    time.sleep(5)\n",
    "    browser.save_screenshot(f'{filename}.png')\n",
    "    browser.quit()\n",
    "    os.remove(html_filename)\n",
    "\n",
    "    return Image(f'{filename}.png')"
   ]
  },
  {
   "cell_type": "code",
   "execution_count": null,
   "metadata": {},
   "outputs": [],
   "source": [
    "from folium.plugins import MarkerCluster, FastMarkerCluster #Using either is fine but I prefer FastMarkerCluster.\n",
    "\n",
    "# Write your code below! Leave the instantiated variables: it is for your convenience.\n",
    "nyc_map = ... \n",
    "\n",
    "\n",
    "\n",
    "convert_map_to_png(nyc_map, 'problem1a')"
   ]
  },
  {
   "attachments": {},
   "cell_type": "markdown",
   "metadata": {},
   "source": [
    "b) Plot a bar chart of the average price per neighbourhood group. Briefly comment on the relation between the price and neighbourhood group (use your map to analyze it). - (2.5 pts)"
   ]
  },
  {
   "cell_type": "code",
   "execution_count": null,
   "metadata": {},
   "outputs": [],
   "source": []
  },
  {
   "cell_type": "markdown",
   "metadata": {},
   "source": [
    "-> Your comments here"
   ]
  },
  {
   "attachments": {},
   "cell_type": "markdown",
   "metadata": {},
   "source": [
    "c) You're going to be living in New York City long term so you'd like to find places you can stay that are at minimum 300 days (inclusive). Plot a map that displays all the locations of these places. (Note: some could be in the same location) - (5 pts)\n"
   ]
  },
  {
   "cell_type": "code",
   "execution_count": null,
   "metadata": {},
   "outputs": [],
   "source": [
    "# Write your code below! Leave the instantiated variables: it is for your convenience.\n",
    "nyc_map_2 = ...\n",
    "\n",
    "\n",
    "\n",
    "convert_map_to_png(nyc_map_2, 'problem1c')"
   ]
  },
  {
   "attachments": {},
   "cell_type": "markdown",
   "metadata": {},
   "source": [
    "d) Using `longitude`, `latitude`, `price`, and `number_of_reviews`, use Density-based clustering to create clusters. Plot the points on the NYC map in a color corresponding to their cluster (color could be randomly assigned, but ensure each datapoint is colored to its associated cluster). \n",
    "For using `DBSCAN`, have the settings **`eps=0.3, min_samples=10`**. Use a `CircleMarker` with `radius=1`. Plot the clusters on the map and print the number of clusters made. - (15 pts)"
   ]
  },
  {
   "cell_type": "code",
   "execution_count": null,
   "metadata": {},
   "outputs": [],
   "source": [
    "# Write your code below! Leave the instantiated variables: it is for your convenience.\n",
    "from sklearn.cluster import DBSCAN\n",
    "\n",
    "nyc_map3 = ...\n",
    "\n",
    "\n",
    "\n",
    "\n",
    "convert_map_to_png(nyc_map_3, 'problem1d')"
   ]
  },
  {
   "attachments": {},
   "cell_type": "markdown",
   "metadata": {},
   "source": [
    "e) What would happen if you were to increase/decrease `eps`, and what would happen if you were to increase/decrease `min_samples`? Give some examples when running part d (you don't have to give the map image, just say something such as \"When testing part d with ... \") - (5 points)"
   ]
  },
  {
   "cell_type": "markdown",
   "metadata": {},
   "source": [
    "-> Your answer here"
   ]
  },
  {
   "attachments": {},
   "cell_type": "markdown",
   "metadata": {},
   "source": [
    "f) For part d, were the clusters seemed to be scattered or grouped together? Justify your answer. - (2.5 points)"
   ]
  },
  {
   "cell_type": "markdown",
   "metadata": {},
   "source": [
    "-> Your answer here"
   ]
  },
  {
   "attachments": {},
   "cell_type": "markdown",
   "metadata": {},
   "source": [
    "g) For all listings of type `Shared room`, plot the dendrogram of the hierarchical clustering generated from `longitude`, `latitude`, and `price`. You can use any distance function. Describe your findings. - (10 points)"
   ]
  },
  {
   "cell_type": "code",
   "execution_count": null,
   "metadata": {},
   "outputs": [],
   "source": [
    "from scipy.cluster import hierarchy\n",
    "\n",
    "hierarchy.linkage(...)\n",
    "hierarchy.dendrogram(...)"
   ]
  },
  {
   "cell_type": "markdown",
   "metadata": {},
   "source": [
    "-> Your comments here\n"
   ]
  },
  {
   "attachments": {},
   "cell_type": "markdown",
   "metadata": {},
   "source": [
    "h) Normalize `longitude`, `latitude`, and `price` by subtracting by the mean (of the column) and dividing by the standard deviation (of the column). Repeat g) using the normalized data. Comment on what you observe. - (5 points)"
   ]
  },
  {
   "cell_type": "code",
   "execution_count": null,
   "metadata": {},
   "outputs": [],
   "source": []
  },
  {
   "cell_type": "markdown",
   "metadata": {},
   "source": [
    "-> Your comments here"
   ]
  },
  {
   "attachments": {},
   "cell_type": "markdown",
   "metadata": {},
   "source": [
    "## Exercise 2 (50 points)\n",
    "\n",
    "a) Fetch the \"mnist_784\" data and store is as a `.csv` (that way you don't have to fetch it every time - which takes about 30s). (2.5 points)"
   ]
  },
  {
   "cell_type": "code",
   "execution_count": null,
   "metadata": {},
   "outputs": [],
   "source": [
    "import matplotlib.pyplot as plt\n",
    "\n",
    "from sklearn.datasets import fetch_openml\n",
    "\n",
    "X, y = fetch_openml(name=\"mnist_784\", version=1, return_X_y=True, as_frame=False)\n",
    "\n",
    "# your code here"
   ]
  },
  {
   "cell_type": "markdown",
   "metadata": {},
   "source": [
    "b) Plot the singular value plot for a single example of the 9 digit (2.5 points)"
   ]
  },
  {
   "cell_type": "code",
   "execution_count": null,
   "metadata": {},
   "outputs": [],
   "source": []
  },
  {
   "attachments": {},
   "cell_type": "markdown",
   "metadata": {},
   "source": [
    "c) Just like we did in class with the image of the boat: By setting some singular values to 0, plot the approximation of an image of a 9 digit next to the original image. (5 points)"
   ]
  },
  {
   "cell_type": "code",
   "execution_count": null,
   "metadata": {},
   "outputs": [],
   "source": []
  },
  {
   "cell_type": "markdown",
   "metadata": {},
   "source": [
    "d) Consider the entire dataset as a matrix. Perform SVD and explain why / how you chose a particular rank. Note: you may not be able to run this on the entire dataset in a reasonable amount of time so you may take a small random sample for this and the following questions. (5 points)"
   ]
  },
  {
   "cell_type": "code",
   "execution_count": null,
   "metadata": {},
   "outputs": [],
   "source": []
  },
  {
   "cell_type": "markdown",
   "metadata": {},
   "source": []
  },
  {
   "cell_type": "markdown",
   "metadata": {},
   "source": [
    "e) Plot the first 10 singular vectors. Notice that each singular vector's length will be 784 so you can plot them as a 28x28 image. (5points)"
   ]
  },
  {
   "cell_type": "code",
   "execution_count": null,
   "metadata": {},
   "outputs": [],
   "source": []
  },
  {
   "cell_type": "markdown",
   "metadata": {},
   "source": [
    "f) Using Kmeans on this new dataset, cluster the images from d) using 10 clusters and plot the centroid of each cluster. Note: the centroids should be represented as images. (10 points)"
   ]
  },
  {
   "cell_type": "code",
   "execution_count": null,
   "metadata": {},
   "outputs": [],
   "source": []
  },
  {
   "cell_type": "markdown",
   "metadata": {},
   "source": [
    "g) Repeat f) on the original dataset (if you used a subset of the dataset, keep using that same subset). Comment on any differences (or lack thereof) you observe between the centroids. (5 points)"
   ]
  },
  {
   "cell_type": "code",
   "execution_count": null,
   "metadata": {},
   "outputs": [],
   "source": []
  },
  {
   "cell_type": "markdown",
   "metadata": {},
   "source": []
  },
  {
   "cell_type": "markdown",
   "metadata": {},
   "source": [
    "h) Create a matrix (let's call it `O`) that is the difference between the original dataset and the rank-10 approximation of the dataset. (5 points)"
   ]
  },
  {
   "cell_type": "code",
   "execution_count": null,
   "metadata": {},
   "outputs": [],
   "source": []
  },
  {
   "cell_type": "markdown",
   "metadata": {},
   "source": [
    "i) The largest (using euclidean distance from the origin) rows of the matrix `O` could be considered anomalous data points. Briefly explain why. Plot the 10 images responsible for the 10 largest rows of that matrix `O`. (10 points)"
   ]
  },
  {
   "cell_type": "code",
   "execution_count": null,
   "metadata": {},
   "outputs": [],
   "source": []
  },
  {
   "cell_type": "markdown",
   "metadata": {},
   "source": []
  },
  {
   "cell_type": "markdown",
   "metadata": {},
   "source": []
  },
  {
   "attachments": {},
   "cell_type": "markdown",
   "metadata": {},
   "source": [
    "## Bonus (20pts)\n",
    "\n",
    "Re-using the dbscan code written in class, reproduce the following animation of the dbscan algorithm"
   ]
  },
  {
   "cell_type": "code",
   "execution_count": null,
   "metadata": {},
   "outputs": [],
   "source": [
    "from IPython.display import Image\n",
    "Image(filename=\"dbscan.gif\", width=500, height=500)"
   ]
  },
  {
   "attachments": {},
   "cell_type": "markdown",
   "metadata": {},
   "source": [
    "Hints:\n",
    "\n",
    "- First animate the dbscan algorithm for the dataset used in class (before trying to create the above dataset)\n",
    "- Take a snapshot of the assignments when the point gets assigned to a cluster\n",
    "- Confirm that the snapshot works by saving it to a file\n",
    "- Don't forget to close the matplotlib plot after saving the figure\n",
    "- Gather the snapshots in a list of images that you can then save as a gif using the code below\n",
    "- Use `ax.set_aspect('equal')` so that the circles don't appear to be oval shaped\n",
    "- To create the above dataset you need two blobs for the eyes. For the mouth you can use the following process to generate (x, y) pairs:\n",
    "  - Pick an x at random in an interval that makes sense given where the eyes are positioned\n",
    "  - For that x generate y that is 0.2 * x^2 plus a small amount of randomness\n",
    "  - `zip` the x's and y's together and append them to the dataset containing the blobs\n",
    "\n"
   ]
  },
  {
   "cell_type": "code",
   "execution_count": null,
   "metadata": {},
   "outputs": [],
   "source": [
    "import numpy as np\n",
    "from PIL import Image as im\n",
    "import matplotlib.pyplot as plt\n",
    "import sklearn.datasets as datasets\n",
    "\n",
    "TEMPFILE = 'temp.png'\n",
    "\n",
    "class DBC():\n",
    "\n",
    "    def __init__(self, dataset, min_pts, epsilon):\n",
    "        self.dataset = dataset\n",
    "        self.min_pts = min_pts \n",
    "        self.epsilon = epsilon\n",
    "        self.snaps = []\n",
    "\n",
    "\n",
    "    def snapshot(self):\n",
    "        fig, ax = plt.subplots()\n",
    "        colors = ...\n",
    "\n",
    "        ax.scatter(...)\n",
    "        cir = plt.Circle(...) # create circle around the point assigned\n",
    "        ax.add_patch(cir)\n",
    "        ax.set_xlim(...)\n",
    "        ax.set_ylim(...)\n",
    "        ax.set_aspect('equal') # necessary or else the circles appear to be oval shaped\n",
    "\n",
    "        fig.savefig(TEMPFILE)\n",
    "        plt.close()\n",
    "\n",
    "        return im.fromarray(np.asarray(im.open(TEMPFILE)))\n",
    "\n",
    "\n",
    "    def dbscan(self):\n",
    "        ...\n",
    "        return\n",
    "\n",
    "\n",
    "centers = [...]\n",
    "eyes, _ = datasets.make_blobs(...)\n",
    "\n",
    "mouth_x = ... * np.random.random(...)\n",
    "mouth_y = ... + .1 * np.random.randn(...)\n",
    "\n",
    "face = np.append(eyes, ..., axis=0)\n",
    "\n",
    "dbc = DBC(face, ..., ...)\n",
    "clustering = dbc.dbscan()\n",
    "\n",
    "dbc.snaps[0].save(\n",
    "    'dbscan.gif',\n",
    "    optimize=False,\n",
    "    save_all=True,\n",
    "    append_images=dbc.snaps[1:],\n",
    "    loop=0,\n",
    "    duration=25\n",
    ")"
   ]
  }
 ],
 "metadata": {
  "kernelspec": {
   "display_name": "Python 3",
   "language": "python",
   "name": "python3"
  },
  "language_info": {
   "codemirror_mode": {
    "name": "ipython",
    "version": 3
   },
   "file_extension": ".py",
   "mimetype": "text/x-python",
   "name": "python",
   "nbconvert_exporter": "python",
   "pygments_lexer": "ipython3",
   "version": "3.11.1"
  },
  "orig_nbformat": 4,
  "vscode": {
   "interpreter": {
    "hash": "e7370f93d1d0cde622a1f8e1c04877d8463912d04d973331ad4851f04de6915a"
   }
  }
 },
 "nbformat": 4,
 "nbformat_minor": 2
}
